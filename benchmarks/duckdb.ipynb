{
 "cells": [
  {
   "cell_type": "markdown",
   "id": "d47c0ad1-d9da-476e-aa51-c0c52e764415",
   "metadata": {
    "user_expressions": []
   },
   "source": [
    "# Native DuckDB vs JupySQL\n",
    "\n",
    "## Native DuckDB"
   ]
  },
  {
   "cell_type": "code",
   "execution_count": 2,
   "id": "4efc1b4d-52ab-482c-a5aa-a237f82f72e4",
   "metadata": {
    "tags": []
   },
   "outputs": [],
   "source": [
    "import duckdb\n",
    "from pandas import DataFrame\n",
    "import numpy as np\n",
    "\n",
    "num_rows = 1_000_000\n",
    "\n",
    "df = DataFrame(np.random.randn(num_rows, 20))"
   ]
  },
  {
   "cell_type": "code",
   "execution_count": 3,
   "id": "9e5d8f89-9e29-4994-a83f-268befd65ea4",
   "metadata": {
    "tags": []
   },
   "outputs": [
    {
     "name": "stdout",
     "output_type": "stream",
     "text": [
      "85.9 ms ± 682 µs per loop (mean ± std. dev. of 7 runs, 10 loops each)\n"
     ]
    }
   ],
   "source": [
    "with duckdb.connect() as con:\n",
    "    %timeit con.sql(\"select * from df\").df()"
   ]
  },
  {
   "cell_type": "markdown",
   "id": "892bc403-4f35-4489-889e-92eb76bda725",
   "metadata": {
    "user_expressions": []
   },
   "source": [
    "## JupySQL"
   ]
  },
  {
   "cell_type": "code",
   "execution_count": 4,
   "id": "8dbc3068-2dcf-4937-81f2-2cfbbefbb4e1",
   "metadata": {
    "tags": []
   },
   "outputs": [],
   "source": [
    "%load_ext sql\n",
    "%sql duckdb://\n",
    "%config SqlMagic.autopandas = True"
   ]
  },
  {
   "cell_type": "code",
   "execution_count": 6,
   "id": "7780ab33-56e1-44eb-84ce-887fdb96104a",
   "metadata": {
    "tags": []
   },
   "outputs": [
    {
     "name": "stdout",
     "output_type": "stream",
     "text": [
      "*  duckdb://\n",
      "*  duckdb://\n",
      "*  duckdb://\n",
      "*  duckdb://\n",
      "*  duckdb://\n",
      "*  duckdb://\n",
      "*  duckdb://\n",
      "*  duckdb://\n",
      "*  duckdb://\n",
      "*  duckdb://\n",
      "*  duckdb://\n",
      "*  duckdb://\n",
      "*  duckdb://\n",
      "*  duckdb://\n",
      "*  duckdb://\n",
      "*  duckdb://\n",
      "*  duckdb://\n",
      "*  duckdb://\n",
      "*  duckdb://\n",
      "*  duckdb://\n",
      "*  duckdb://\n",
      "*  duckdb://\n",
      "*  duckdb://\n",
      "*  duckdb://\n",
      "*  duckdb://\n",
      "*  duckdb://\n",
      "*  duckdb://\n",
      "*  duckdb://\n",
      "*  duckdb://\n",
      "*  duckdb://\n",
      "*  duckdb://\n",
      "*  duckdb://\n",
      "*  duckdb://\n",
      "*  duckdb://\n",
      "*  duckdb://\n",
      "*  duckdb://\n",
      "*  duckdb://\n",
      "*  duckdb://\n",
      "*  duckdb://\n",
      "*  duckdb://\n",
      "*  duckdb://\n",
      "*  duckdb://\n",
      "*  duckdb://\n",
      "*  duckdb://\n",
      "*  duckdb://\n",
      "*  duckdb://\n",
      "*  duckdb://\n",
      "*  duckdb://\n",
      "*  duckdb://\n",
      "*  duckdb://\n",
      "*  duckdb://\n",
      "*  duckdb://\n",
      "*  duckdb://\n",
      "*  duckdb://\n",
      "*  duckdb://\n",
      "*  duckdb://\n",
      "*  duckdb://\n",
      "*  duckdb://\n",
      "*  duckdb://\n",
      "*  duckdb://\n",
      "*  duckdb://\n",
      "*  duckdb://\n",
      "*  duckdb://\n",
      "*  duckdb://\n",
      "*  duckdb://\n",
      "*  duckdb://\n",
      "*  duckdb://\n",
      "*  duckdb://\n",
      "*  duckdb://\n",
      "*  duckdb://\n",
      "*  duckdb://\n",
      "*  duckdb://\n",
      "*  duckdb://\n",
      "*  duckdb://\n",
      "*  duckdb://\n",
      "*  duckdb://\n",
      "*  duckdb://\n",
      "*  duckdb://\n",
      "*  duckdb://\n",
      "*  duckdb://\n",
      "*  duckdb://\n",
      "90.3 ms ± 670 µs per loop (mean ± std. dev. of 7 runs, 10 loops each)\n"
     ]
    }
   ],
   "source": [
    "%%timeit\n",
    "df_ = %sql select * from df"
   ]
  }
 ],
 "metadata": {
  "kernelspec": {
   "display_name": "Python 3 (ipykernel)",
   "language": "python",
   "name": "python3"
  },
  "language_info": {
   "codemirror_mode": {
    "name": "ipython",
    "version": 3
   },
   "file_extension": ".py",
   "mimetype": "text/x-python",
   "name": "python",
   "nbconvert_exporter": "python",
   "pygments_lexer": "ipython3",
   "version": "3.10.10"
  }
 },
 "nbformat": 4,
 "nbformat_minor": 5
}
